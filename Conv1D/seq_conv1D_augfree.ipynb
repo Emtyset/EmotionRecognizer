{
 "cells": [
  {
   "cell_type": "code",
   "execution_count": 33,
   "metadata": {},
   "outputs": [],
   "source": [
    "import ravdess3 as rvd"
   ]
  },
  {
   "cell_type": "code",
   "execution_count": 2,
   "metadata": {},
   "outputs": [
    {
     "name": "stderr",
     "output_type": "stream",
     "text": [
      "Using TensorFlow backend.\n"
     ]
    }
   ],
   "source": [
    "import numpy as np\n",
    "import keras\n",
    "from keras import layers\n",
    "from keras.models import Sequential"
   ]
  },
  {
   "cell_type": "code",
   "execution_count": 3,
   "metadata": {},
   "outputs": [],
   "source": [
    "loader = rvd.Loader()\n",
    "X, y = loader.load_via_joblib()"
   ]
  },
  {
   "cell_type": "code",
   "execution_count": 4,
   "metadata": {},
   "outputs": [
    {
     "data": {
      "text/plain": [
       "'Done: 1440'"
      ]
     },
     "metadata": {},
     "output_type": "display_data"
    }
   ],
   "source": [
    "X = rvd.get_mfcc(X, 22050, n_mfcc=128)"
   ]
  },
  {
   "cell_type": "code",
   "execution_count": 5,
   "metadata": {},
   "outputs": [],
   "source": [
    "idxs = np.random.permutation(len(X))\n",
    "X = X[idxs]"
   ]
  },
  {
   "cell_type": "code",
   "execution_count": 7,
   "metadata": {},
   "outputs": [],
   "source": [
    "X_a = np.reshape(X, (1440, 128, 1))"
   ]
  },
  {
   "cell_type": "code",
   "execution_count": 8,
   "metadata": {},
   "outputs": [],
   "source": [
    "from keras.utils import to_categorical\n",
    "\n",
    "y = loader.labels\n",
    "y = y[idxs]\n",
    "y = y - 1\n",
    "y_a = to_categorical(y)"
   ]
  },
  {
   "cell_type": "code",
   "execution_count": 9,
   "metadata": {},
   "outputs": [],
   "source": [
    "from sklearn.model_selection import train_test_split\n",
    "\n",
    "X_train, X_test, y_train, y_test = train_test_split(X_a, y_a, test_size=0.1, random_state=42)"
   ]
  },
  {
   "cell_type": "code",
   "execution_count": 24,
   "metadata": {},
   "outputs": [],
   "source": [
    "model = Sequential([\n",
    "    layers.Conv1D(128, 5, input_shape=(128, 1), padding='same'),\n",
    "    layers.Activation('relu'),\n",
    "    layers.Dropout(0.1),\n",
    "    layers.MaxPooling1D(8),\n",
    "    layers.Conv1D(128, 5, padding='same'),\n",
    "    layers.Activation('relu'),\n",
    "    layers.Dropout(0.1),\n",
    "    layers.Flatten(),\n",
    "    layers.Dense(8, activation='sigmoid')\n",
    "])"
   ]
  },
  {
   "cell_type": "code",
   "execution_count": 25,
   "metadata": {},
   "outputs": [],
   "source": [
    "model.compile(optimizer='rmsprop', loss='categorical_crossentropy', metrics=['acc'])"
   ]
  },
  {
   "cell_type": "code",
   "execution_count": 26,
   "metadata": {},
   "outputs": [],
   "source": [
    "callbacks = [\n",
    "    keras.callbacks.ModelCheckpoint(filepath='seq_conv1D_augfree.h5', monitor='val_loss', save_best_only=True)\n",
    "]"
   ]
  },
  {
   "cell_type": "code",
   "execution_count": 27,
   "metadata": {},
   "outputs": [
    {
     "name": "stdout",
     "output_type": "stream",
     "text": [
      "Train on 1166 samples, validate on 130 samples\n",
      "Epoch 1/40\n",
      "1166/1166 [==============================] - 1s 908us/step - loss: 2.2471 - acc: 0.1046 - val_loss: 2.0794 - val_acc: 0.0462\n",
      "Epoch 2/40\n",
      "1166/1166 [==============================] - 0s 408us/step - loss: 2.0794 - acc: 0.0729 - val_loss: 2.0794 - val_acc: 0.0462\n",
      "Epoch 3/40\n",
      "1166/1166 [==============================] - 0s 395us/step - loss: 2.0803 - acc: 0.0772 - val_loss: 2.6000 - val_acc: 0.1692\n",
      "Epoch 4/40\n",
      "1166/1166 [==============================] - 1s 437us/step - loss: 2.9790 - acc: 0.1295 - val_loss: 2.6000 - val_acc: 0.1692\n",
      "Epoch 5/40\n",
      "1166/1166 [==============================] - 0s 395us/step - loss: 4.0737 - acc: 0.0772 - val_loss: 6.1999 - val_acc: 0.0462\n",
      "Epoch 6/40\n",
      "1166/1166 [==============================] - 0s 407us/step - loss: 4.9282 - acc: 0.1235 - val_loss: 4.9876 - val_acc: 0.1692\n",
      "Epoch 7/40\n",
      "1166/1166 [==============================] - 0s 408us/step - loss: 4.9567 - acc: 0.1295 - val_loss: 7.3013 - val_acc: 0.1692\n",
      "Epoch 8/40\n",
      "1166/1166 [==============================] - 1s 436us/step - loss: 6.2507 - acc: 0.1295 - val_loss: 7.3013 - val_acc: 0.1692\n",
      "Epoch 9/40\n",
      "1166/1166 [==============================] - 1s 438us/step - loss: 6.2507 - acc: 0.1295 - val_loss: 7.3013 - val_acc: 0.1692\n",
      "Epoch 10/40\n",
      "1166/1166 [==============================] - 0s 426us/step - loss: 6.2507 - acc: 0.1295 - val_loss: 7.3013 - val_acc: 0.1692\n",
      "Epoch 11/40\n",
      "1166/1166 [==============================] - 1s 434us/step - loss: 6.2571 - acc: 0.1295 - val_loss: 7.3013 - val_acc: 0.1692\n",
      "Epoch 12/40\n",
      "1166/1166 [==============================] - 1s 488us/step - loss: 6.2507 - acc: 0.1295 - val_loss: 7.3013 - val_acc: 0.1692\n",
      "Epoch 13/40\n",
      "1166/1166 [==============================] - 1s 465us/step - loss: 6.2507 - acc: 0.1295 - val_loss: 7.3013 - val_acc: 0.1692\n",
      "Epoch 14/40\n",
      "1166/1166 [==============================] - 1s 478us/step - loss: 6.2507 - acc: 0.1295 - val_loss: 7.3013 - val_acc: 0.1692\n",
      "Epoch 15/40\n",
      "1166/1166 [==============================] - 1s 470us/step - loss: 6.2507 - acc: 0.1295 - val_loss: 7.3013 - val_acc: 0.1692\n",
      "Epoch 16/40\n",
      "1166/1166 [==============================] - 1s 556us/step - loss: 6.2507 - acc: 0.1295 - val_loss: 7.3013 - val_acc: 0.1692\n",
      "Epoch 17/40\n",
      "1166/1166 [==============================] - 1s 462us/step - loss: 6.2507 - acc: 0.1295 - val_loss: 7.3013 - val_acc: 0.1692\n",
      "Epoch 18/40\n",
      "1166/1166 [==============================] - 1s 449us/step - loss: 6.2507 - acc: 0.1295 - val_loss: 7.3013 - val_acc: 0.1692\n",
      "Epoch 19/40\n",
      "1166/1166 [==============================] - 1s 453us/step - loss: 6.2507 - acc: 0.1295 - val_loss: 7.3013 - val_acc: 0.1692\n",
      "Epoch 20/40\n",
      "1166/1166 [==============================] - 1s 440us/step - loss: 6.2507 - acc: 0.1295 - val_loss: 7.3013 - val_acc: 0.1692\n",
      "Epoch 21/40\n",
      "1166/1166 [==============================] - 1s 432us/step - loss: 6.2507 - acc: 0.1295 - val_loss: 7.3013 - val_acc: 0.1692\n",
      "Epoch 22/40\n",
      "1166/1166 [==============================] - 0s 419us/step - loss: 6.2507 - acc: 0.1295 - val_loss: 7.3013 - val_acc: 0.1692\n",
      "Epoch 23/40\n",
      "1166/1166 [==============================] - 0s 428us/step - loss: 6.2507 - acc: 0.1295 - val_loss: 7.3013 - val_acc: 0.1692\n",
      "Epoch 24/40\n",
      "1166/1166 [==============================] - 1s 450us/step - loss: 6.2507 - acc: 0.1295 - val_loss: 7.3013 - val_acc: 0.1692\n",
      "Epoch 25/40\n",
      "1166/1166 [==============================] - 1s 435us/step - loss: 6.2507 - acc: 0.1295 - val_loss: 7.3013 - val_acc: 0.1692\n",
      "Epoch 26/40\n",
      "1166/1166 [==============================] - 1s 484us/step - loss: 6.2507 - acc: 0.1295 - val_loss: 7.3013 - val_acc: 0.1692\n",
      "Epoch 27/40\n",
      "1166/1166 [==============================] - 0s 424us/step - loss: 6.2507 - acc: 0.1295 - val_loss: 7.3013 - val_acc: 0.1692\n",
      "Epoch 28/40\n",
      "1166/1166 [==============================] - 1s 537us/step - loss: 6.2507 - acc: 0.1295 - val_loss: 7.3013 - val_acc: 0.1692\n",
      "Epoch 29/40\n",
      "1166/1166 [==============================] - 1s 458us/step - loss: 6.2507 - acc: 0.1295 - val_loss: 7.3013 - val_acc: 0.1692\n",
      "Epoch 30/40\n",
      "1166/1166 [==============================] - 0s 411us/step - loss: 6.2507 - acc: 0.1295 - val_loss: 7.3013 - val_acc: 0.1692\n",
      "Epoch 31/40\n",
      "1166/1166 [==============================] - 1s 443us/step - loss: 6.2507 - acc: 0.1295 - val_loss: 7.3013 - val_acc: 0.1692\n",
      "Epoch 32/40\n",
      "1166/1166 [==============================] - 1s 430us/step - loss: 6.2507 - acc: 0.1295 - val_loss: 7.3013 - val_acc: 0.1692\n",
      "Epoch 33/40\n",
      "1166/1166 [==============================] - 1s 432us/step - loss: 6.2507 - acc: 0.1295 - val_loss: 7.3013 - val_acc: 0.1692\n",
      "Epoch 34/40\n",
      "1166/1166 [==============================] - 1s 441us/step - loss: 6.2507 - acc: 0.1295 - val_loss: 7.3013 - val_acc: 0.1692\n",
      "Epoch 35/40\n",
      "1166/1166 [==============================] - 1s 542us/step - loss: 6.2507 - acc: 0.1295 - val_loss: 7.3013 - val_acc: 0.1692\n",
      "Epoch 36/40\n",
      "1166/1166 [==============================] - 0s 420us/step - loss: 6.2507 - acc: 0.1295 - val_loss: 7.3013 - val_acc: 0.1692\n",
      "Epoch 37/40\n",
      "1166/1166 [==============================] - 1s 456us/step - loss: 6.2507 - acc: 0.1295 - val_loss: 7.3013 - val_acc: 0.1692\n",
      "Epoch 38/40\n",
      "1166/1166 [==============================] - 1s 456us/step - loss: 6.2507 - acc: 0.1295 - val_loss: 7.3013 - val_acc: 0.1692\n",
      "Epoch 39/40\n",
      "1166/1166 [==============================] - 1s 452us/step - loss: 6.2507 - acc: 0.1295 - val_loss: 7.3013 - val_acc: 0.1692\n",
      "Epoch 40/40\n",
      "1166/1166 [==============================] - 1s 478us/step - loss: 6.2507 - acc: 0.1295 - val_loss: 7.3013 - val_acc: 0.1692\n"
     ]
    }
   ],
   "source": [
    "history = model.fit(X_train, y_train, epochs=40, validation_split=0.1, batch_size=16, callbacks=callbacks)"
   ]
  },
  {
   "cell_type": "code",
   "execution_count": 28,
   "metadata": {},
   "outputs": [
    {
     "data": {
      "image/png": "[encoded data removed]",
      "text/plain": [
       "<Figure size 432x288 with 1 Axes>"
      ]
     },
     "metadata": {
      "needs_background": "light"
     },
     "output_type": "display_data"
    }
   ],
   "source": [
    "import matplotlib.pyplot as plt\n",
    "history_dict = history.history\n",
    "loss_values = history_dict['loss']\n",
    "val_loss_values = history_dict['val_loss']\n",
    "\n",
    "epochs = range(1, 41)\n",
    "\n",
    "plt.plot(epochs, loss_values, label=\"Training loss\")\n",
    "plt.plot(epochs, val_loss_values,  label=\"Validation loss\")\n",
    "plt.title(\"Training and Validation loss\")\n",
    "plt.xlabel(\"Epochs\")\n",
    "plt.ylabel('Loss')\n",
    "plt.legend()\n",
    "\n",
    "plt.show()"
   ]
  },
  {
   "cell_type": "code",
   "execution_count": 29,
   "metadata": {},
   "outputs": [],
   "source": [
    "best_model = keras.models.load_model('seq_conv1D_augfree.h5')"
   ]
  },
  {
   "cell_type": "code",
   "execution_count": 30,
   "metadata": {},
   "outputs": [
    {
     "name": "stdout",
     "output_type": "stream",
     "text": [
      "144/144 [==============================] - 0s 739us/step\n"
     ]
    }
   ],
   "source": [
    "val_loss, val_acc = best_model.evaluate(X_test, y_test)"
   ]
  },
  {
   "cell_type": "code",
   "execution_count": 31,
   "metadata": {},
   "outputs": [
    {
     "data": {
      "text/plain": [
       "(2.079441547393799, 0.0347222238779068)"
      ]
     },
     "execution_count": 31,
     "metadata": {},
     "output_type": "execute_result"
    }
   ],
   "source": [
    "val_loss, val_acc"
   ]
  },
  {
   "cell_type": "code",
   "execution_count": 32,
   "metadata": {},
   "outputs": [],
   "source": [
    "predictions = best_model.predict(X_test)"
   ]
  }
 ],
 "metadata": {
  "kernelspec": {
   "display_name": "tf-gpu",
   "language": "python",
   "name": "tf-gpu"
  },
  "language_info": {
   "codemirror_mode": {
    "name": "ipython",
    "version": 3
   },
   "file_extension": ".py",
   "mimetype": "text/x-python",
   "name": "python",
   "nbconvert_exporter": "python",
   "pygments_lexer": "ipython3",
   "version": "3.7.5"
  }
 },
 "nbformat": 4,
 "nbformat_minor": 4
}
